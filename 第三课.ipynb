{
 "cells": [
  {
   "cell_type": "markdown",
   "metadata": {},
   "source": [
    "# 第三次课后习题\n",
    "\n",
    "学号：20179065 $ \\qquad $ 班级序列号：170230 $ \\qquad $ 姓名：董秩序"
   ]
  },
  {
   "cell_type": "markdown",
   "metadata": {},
   "source": [
    "* square symmetric matrices\n",
    ">斜对称矩阵:设M是方阵,如果它的转置$M^t$加上它本身恰好是零矩阵，那么就称$M$是斜对称矩阵。\n",
    "斜对称矩阵也可以称为反对称矩阵或交错矩阵。\n",
    "\n",
    "斜对称矩阵具有性质：数域P上的斜对称矩阵的主对角元全是零；数域P上的n级斜对称矩阵A，如果n是奇数，则$|A|=0$，因此数域P上的奇数级斜对称矩阵一定是奇异的（即不可逆的）。"
   ]
  },
  {
   "cell_type": "code",
   "execution_count": 1,
   "metadata": {},
   "outputs": [],
   "source": [
    "import numpy as np"
   ]
  },
  {
   "cell_type": "code",
   "execution_count": 2,
   "metadata": {},
   "outputs": [],
   "source": [
    "class Data: #定义需要SVD分解的类\n",
    "    def __init__(self, a):\n",
    "        self.load_data = a\n",
    "        self.shape = a.shape\n",
    "        self.r = min(a.shape)\n",
    "        self.u, self.sigma, self.vt = np.linalg.svd(self.load_data)\n",
    "    \n",
    "    def get_smat(self):\n",
    "        smat = np.zeros(self.shape, dtype=complex) #complex表示复数\n",
    "        smat[:self.r, :self.r] = np.diag(self.sigma) #得到∑，奇异值矩阵，对角线上为奇异值σi \n",
    "        return smat\n",
    "    \n",
    "    def get_u1(self):\n",
    "        #sh = np.linalg.inv(self.get_smat()[:self.r]) #∑取前面r行，求sigma的逆\n",
    "        #u1 = load_data.dot(self.vt).dot(sh) # m*r \n",
    "        u1 = self.u[:,:self.r]\n",
    "        return u1\n",
    "    \n",
    "    def get_u2(self):\n",
    "        u2 = self.u[:,self.r:]\n",
    "        return u2\n",
    "    \n",
    "    def get_v1(self):\n",
    "        v1 = self.vt[:,:self.r]\n",
    "        return v1\n",
    "    \n",
    "    def get_v2(self):\n",
    "        v2 = self.vt[:,self.r:]\n",
    "        return v2"
   ]
  },
  {
   "cell_type": "markdown",
   "metadata": {},
   "source": [
    "随机数定义一个m*n矩阵"
   ]
  },
  {
   "cell_type": "code",
   "execution_count": 3,
   "metadata": {},
   "outputs": [
    {
     "name": "stdout",
     "output_type": "stream",
     "text": [
      "[[2 5 4]\n",
      " [2 3 2]\n",
      " [0 2 3]\n",
      " [2 2 3]\n",
      " [4 1 1]]\n"
     ]
    }
   ],
   "source": [
    "if __name__ == '__main__': \n",
    "    test =  np.random.randn(5,3)+3\n",
    "    data = test.astype(int)\n",
    "    print(data)\n",
    "    a = Data(data)"
   ]
  },
  {
   "cell_type": "markdown",
   "metadata": {},
   "source": [
    "## 1. 对所给矩阵进行SVD分解"
   ]
  },
  {
   "cell_type": "code",
   "execution_count": 4,
   "metadata": {},
   "outputs": [
    {
     "data": {
      "text/plain": [
       "array([[-0.67648703,  0.26570367,  0.41381109, -0.19151594, -0.51366223],\n",
       "       [-0.41602819, -0.08329967,  0.42663846,  0.34940766,  0.71824482],\n",
       "       [-0.32371102,  0.44409587, -0.52554488, -0.49706994,  0.41798815],\n",
       "       [-0.41230313, -0.06761628, -0.59238287,  0.65496165, -0.21340556],\n",
       "       [-0.30741364, -0.84892263, -0.14008968, -0.40642668,  0.00441148]])"
      ]
     },
     "execution_count": 4,
     "metadata": {},
     "output_type": "execute_result"
    }
   ],
   "source": [
    "a.u #矩阵SVD分解得到U"
   ]
  },
  {
   "cell_type": "code",
   "execution_count": 5,
   "metadata": {},
   "outputs": [
    {
     "data": {
      "text/plain": [
       "array([[-0.43334038, -0.65522631, -0.61878477],\n",
       "       [-0.90003876,  0.27934183,  0.33451214],\n",
       "       [-0.04632869,  0.7018879 , -0.71077917]])"
      ]
     },
     "execution_count": 5,
     "metadata": {},
     "output_type": "execute_result"
    }
   ],
   "source": [
    "a.vt #矩阵SVD分解得到V"
   ]
  },
  {
   "cell_type": "code",
   "execution_count": 6,
   "metadata": {},
   "outputs": [
    {
     "data": {
      "text/plain": [
       "array([9.78282087, 3.51775413, 1.38629784])"
      ]
     },
     "execution_count": 6,
     "metadata": {},
     "output_type": "execute_result"
    }
   ],
   "source": [
    "a.sigma #矩阵非零奇异值"
   ]
  },
  {
   "cell_type": "code",
   "execution_count": 7,
   "metadata": {},
   "outputs": [
    {
     "data": {
      "text/plain": [
       "array([[ 2.00000000e+00+0.j,  5.00000000e+00+0.j,  4.00000000e+00+0.j],\n",
       "       [ 2.00000000e+00+0.j,  3.00000000e+00+0.j,  2.00000000e+00+0.j],\n",
       "       [-2.22044605e-16+0.j,  2.00000000e+00+0.j,  3.00000000e+00+0.j],\n",
       "       [ 2.00000000e+00+0.j,  2.00000000e+00+0.j,  3.00000000e+00+0.j],\n",
       "       [ 4.00000000e+00+0.j,  1.00000000e+00+0.j,  1.00000000e+00+0.j]])"
      ]
     },
     "execution_count": 7,
     "metadata": {},
     "output_type": "execute_result"
    }
   ],
   "source": [
    "a.u.dot(np.dot(a.get_smat(), a.vt)) #还原为a"
   ]
  },
  {
   "cell_type": "markdown",
   "metadata": {},
   "source": [
    "### 将SVD分解得到的U分成u1、u2，V分解成v1、v2"
   ]
  },
  {
   "cell_type": "code",
   "execution_count": 8,
   "metadata": {},
   "outputs": [],
   "source": [
    "u1 = a.get_u1()\n",
    "u2 = a.get_u2()\n",
    "v1 = a.get_v1()\n",
    "v2 = a.get_v2()"
   ]
  },
  {
   "cell_type": "markdown",
   "metadata": {},
   "source": [
    "### 表达出奇异值矩阵"
   ]
  },
  {
   "cell_type": "code",
   "execution_count": 9,
   "metadata": {},
   "outputs": [
    {
     "data": {
      "text/plain": [
       "array([[9.78282087+0.j, 0.        +0.j, 0.        +0.j],\n",
       "       [0.        +0.j, 3.51775413+0.j, 0.        +0.j],\n",
       "       [0.        +0.j, 0.        +0.j, 1.38629784+0.j],\n",
       "       [0.        +0.j, 0.        +0.j, 0.        +0.j],\n",
       "       [0.        +0.j, 0.        +0.j, 0.        +0.j]])"
      ]
     },
     "execution_count": 9,
     "metadata": {},
     "output_type": "execute_result"
    }
   ],
   "source": [
    "a.get_smat()"
   ]
  },
  {
   "cell_type": "markdown",
   "metadata": {},
   "source": [
    "奇异矩阵特征：除了对角元素不为0，其他元素都为0，\n",
    "并且对角元素从大到小排列。\n",
    "\n",
    "a中有n个奇异值，\n",
    "一般排在后面的比较接近0，所以仅保留比较大的r个奇异值。 "
   ]
  },
  {
   "cell_type": "markdown",
   "metadata": {},
   "source": [
    "## 2. SVD性质(3.4.1-3.4.6)证明"
   ]
  },
  {
   "cell_type": "markdown",
   "metadata": {},
   "source": [
    "### 3.4.1 rank(A) = r"
   ]
  },
  {
   "cell_type": "code",
   "execution_count": 10,
   "metadata": {},
   "outputs": [
    {
     "name": "stdout",
     "output_type": "stream",
     "text": [
      "rank(A) = r成立\n"
     ]
    }
   ],
   "source": [
    "def ra():\n",
    "    rank = np.linalg.matrix_rank(data)#使用SVD方法返回数组的矩阵的rank\n",
    "    if rank == a.r:\n",
    "        print(\"rank(A) = r成立\")\n",
    "    \n",
    "ra()"
   ]
  },
  {
   "cell_type": "markdown",
   "metadata": {},
   "source": [
    "### 3.4.2 N(A) = R(V2)"
   ]
  },
  {
   "cell_type": "markdown",
   "metadata": {},
   "source": [
    "$ N(A)= $$\\lbrace x≠0|Ax=0\\rbrace$$ $ \n"
   ]
  },
  {
   "cell_type": "code",
   "execution_count": 11,
   "metadata": {},
   "outputs": [
    {
     "name": "stdout",
     "output_type": "stream",
     "text": [
      "3.4.2 N(A) = R(V2)成立\n"
     ]
    }
   ],
   "source": [
    "def narv2():\n",
    "    ax = a.u.dot(a.get_smat().dot(v1.T.dot(v2))) #计算Ax\n",
    "    if ax.shape[0]==0 or ax.shape[1]==0 :\n",
    "        print(\"3.4.2 N(A) = R(V2)成立\")\n",
    "\n",
    "narv2()"
   ]
  },
  {
   "cell_type": "markdown",
   "metadata": {},
   "source": [
    "计算得0，span(v2)至少是N（A）的子空间。故v2是A零空间的积"
   ]
  },
  {
   "cell_type": "markdown",
   "metadata": {},
   "source": [
    "### 3.4.3 R(A) = R(U1)"
   ]
  },
  {
   "cell_type": "code",
   "execution_count": 12,
   "metadata": {},
   "outputs": [
    {
     "name": "stdout",
     "output_type": "stream",
     "text": [
      "3.4.3 R(A) = R(U1)成立\n"
     ]
    }
   ],
   "source": [
    "def raru1(): #判断R(A) = R(U1)\n",
    "    ax1 = a.u.dot(a.get_smat().dot(a.vt.T))\n",
    "    ax2 = a.u.dot(a.get_smat().dot(v1.T))\n",
    "    if ax1.all() == ax2.all():\n",
    "        print(\"3.4.3 R(A) = R(U1)成立\")\n",
    "        \n",
    "raru1()"
   ]
  },
  {
   "cell_type": "markdown",
   "metadata": {},
   "source": [
    "### 3.4.4 R(AT ) = R(V1)"
   ]
  },
  {
   "cell_type": "code",
   "execution_count": 13,
   "metadata": {},
   "outputs": [
    {
     "name": "stdout",
     "output_type": "stream",
     "text": [
      "3.4.4 R(AT ) = R(V1)成立\n"
     ]
    }
   ],
   "source": [
    "def natrv2():\n",
    "    atx = a.u.T.dot(a.get_smat().dot(v1.T.dot(v2))) #计算ATx\n",
    "    if atx.shape[0]==0 or atx.shape[1]==0 :\n",
    "        print(\"3.4.4 R(AT ) = R(V1)成立\")\n",
    "\n",
    "natrv2()"
   ]
  },
  {
   "cell_type": "markdown",
   "metadata": {},
   "source": [
    "### 3.4.5 R(A )⊥= R(U2)"
   ]
  },
  {
   "cell_type": "code",
   "execution_count": 14,
   "metadata": {},
   "outputs": [
    {
     "data": {
      "text/plain": [
       "array([[ 1.25958264+0.j,  0.1562922 +0.j],\n",
       "       [ 0.75777592+0.j, -0.11687854+0.j],\n",
       "       [ 0.8272865 +0.j,  0.20460288+0.j],\n",
       "       [ 1.15783212+0.j, -0.39059961+0.j],\n",
       "       [ 0.9119946 +0.j, -1.05381961+0.j]])"
      ]
     },
     "execution_count": 14,
     "metadata": {},
     "output_type": "execute_result"
    }
   ],
   "source": [
    "smati = np.mat(a.get_smat()).I\n",
    "\n",
    "#u1的定义\n",
    "U1 = a.load_data.dot(v1).dot(np.array(smati))\n",
    "U1.shape\n",
    "U1.dot(u2)"
   ]
  },
  {
   "cell_type": "markdown",
   "metadata": {},
   "source": [
    "因为有$U_1⊥U_2$，故性质5成立 "
   ]
  },
  {
   "cell_type": "markdown",
   "metadata": {},
   "source": [
    "### 3.4.6 ||A||2=σ1=σmax"
   ]
  },
  {
   "cell_type": "code",
   "execution_count": 15,
   "metadata": {},
   "outputs": [
    {
     "name": "stdout",
     "output_type": "stream",
     "text": [
      "||A||2=σ1=σmax成立\n"
     ]
    }
   ],
   "source": [
    "def a2():\n",
    "    norm = np.linalg.norm(a.load_data,ord=2) #计算a的二范数\n",
    "    σ1 = a.sigma[0] #取出第一个奇异值\n",
    "    σmax = max(a.sigma) #取出最大奇异值\n",
    "    if int(norm) == int(σ1):\n",
    "        if int(norm) == int(σmax):\n",
    "            print(\"||A||2=σ1=σmax成立\")\n",
    "a2()"
   ]
  }
 ],
 "metadata": {
  "kernelspec": {
   "display_name": "Python 3",
   "language": "python",
   "name": "python3"
  },
  "language_info": {
   "codemirror_mode": {
    "name": "ipython",
    "version": 3
   },
   "file_extension": ".py",
   "mimetype": "text/x-python",
   "name": "python",
   "nbconvert_exporter": "python",
   "pygments_lexer": "ipython3",
   "version": "3.7.4"
  }
 },
 "nbformat": 4,
 "nbformat_minor": 2
}
