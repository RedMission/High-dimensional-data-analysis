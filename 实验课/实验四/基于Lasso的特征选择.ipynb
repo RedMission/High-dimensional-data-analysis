{
 "cells": [
  {
   "cell_type": "code",
   "execution_count": 1,
   "metadata": {},
   "outputs": [
    {
     "name": "stdout",
     "output_type": "stream",
     "text": [
      "生成矩阵的尺寸：150, 4\n",
      "(150L, 4L)\n",
      "原始特征的维度： 4\n",
      "原始特征，在测试集上的准确率： 0.58\n",
      "原始特征，在测试集上的R2可决系数： -0.871657754011\n",
      "\n",
      "新特征的维度： 3\n",
      "新特征，在测试集上的准确率： 0.58\n",
      "新始特征，在测试集上的R2可决系数： -0.871657754011\n"
     ]
    }
   ],
   "source": [
    "import numpy as np\n",
    "import time\n",
    "\n",
    "from sklearn.svm import LinearSVC\n",
    "from sklearn.datasets import load_iris\n",
    "from sklearn.feature_selection import SelectFromModel\n",
    "from sklearn.metrics import r2_score\n",
    "\n",
    "np.random.seed(int(time.time()))\n",
    "\n",
    "iris = load_iris()\n",
    "X, y = iris.data, iris.target\n",
    "print '生成矩阵的尺寸：150, 4'\n",
    "print X.shape\n",
    "\n",
    "# 对原始样本重排列\n",
    "inds = np.arange(X.shape[0])\n",
    "np.random.shuffle(inds)\n",
    "\n",
    "# 提取训练数据集和测试数据集\n",
    "X_train = X[inds[:100]]\n",
    "y_train = y[inds[:100]]\n",
    "X_test = X[inds[100:]]\n",
    "y_test = y[inds[100:]]\n",
    "\n",
    "print '原始特征的维度：', X_train.shape[1]\n",
    "\n",
    "# 线性核的支持向量机分类器（Linear kernel Support Vector Machine classifier）\n",
    "# 支持向量机的参数C为0.01,使用l1正则化项\n",
    "lsvc = LinearSVC(C=0.01, penalty=\"l1\", dual=False).fit(X_train, y_train)\n",
    "\n",
    "print '原始特征，在测试集上的准确率：', lsvc.score(X_test, y_test)\n",
    "print '原始特征，在测试集上的R2可决系数：', r2_score(lsvc.predict(X_test), y_test)\n",
    "\n",
    "# 基于l1正则化的特征选择\n",
    "model = SelectFromModel(lsvc, prefit=True)\n",
    "\n",
    "# 将原始特征，转换为新的特征\n",
    "X_train_new = model.transform(X_train)\n",
    "X_test_new = model.transform(X_test)\n",
    "\n",
    "print '/n新特征的维度：', X_train_new.shape[1]\n",
    "# 用新的特征重新训练模型\n",
    "lsvc = LinearSVC(C=0.01, penalty=\"l1\", dual=False).fit(X_train_new, y_train)\n",
    "\n",
    "print '新特征，在测试集上的准确率：', lsvc.score(X_test_new, y_test)\n",
    "print '新始特征，在测试集上的R2可决系数：', r2_score(lsvc.predict(X_test_new), y_test)\n"
   ]
  },
  {
   "cell_type": "code",
   "execution_count": null,
   "metadata": {},
   "outputs": [],
   "source": []
  }
 ],
 "metadata": {
  "kernelspec": {
   "display_name": "Python 2",
   "language": "python",
   "name": "python2"
  },
  "language_info": {
   "codemirror_mode": {
    "name": "ipython",
    "version": 2
   },
   "file_extension": ".py",
   "mimetype": "text/x-python",
   "name": "python",
   "nbconvert_exporter": "python",
   "pygments_lexer": "ipython2",
   "version": "2.7.13"
  }
 },
 "nbformat": 4,
 "nbformat_minor": 2
}
