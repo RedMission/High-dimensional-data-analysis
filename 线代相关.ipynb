{
 "cells": [
  {
   "cell_type": "markdown",
   "metadata": {},
   "source": [
    "# 线性代数基本概念"
   ]
  },
  {
   "cell_type": "markdown",
   "metadata": {},
   "source": [
    "## 矢量的基本操作\n",
    "\n",
    "### 矢量的加法\n",
    "一般对于两个二维矢量求和，结果为对应坐标相加，得到一个矢量。\n",
    "注意：\n",
    "1. 只有维度相同的两个矢量可以相加；\n",
    "2. 对于高维空间中的矢量求和，可以类推。"
   ]
  },
  {
   "cell_type": "markdown",
   "metadata": {},
   "source": [
    "### 矢量的数乘 \n",
    "矢量的数乘将每个维度坐标的值与目标常数相乘，结果为一个矢量。\n",
    "\n",
    "说明：\n",
    "* 当常数的绝对值大于1，数乘讲矢量拉长，绝对值小于1，数乘将矢量缩短"
   ]
  },
  {
   "cell_type": "markdown",
   "metadata": {},
   "source": [
    "### 矢量的长度\n",
    "矢量长度又称模，通常矢量的长度取为各元素的平方和之平方根。"
   ]
  },
  {
   "cell_type": "markdown",
   "metadata": {},
   "source": [
    "### 矢量的点积 （内积）\n",
    "矢量的点积又叫标量积，定义为两个矢量对应元素的乘积之和。\n",
    "注意：\n",
    "1. 矢量的点积的结果为一个数，而不是矢量；\n",
    "2. 矢量的点积*满足交换律；\n",
    "3. 点积符号·不可省略；\n",
    "4. 如果不同维度上的数据的单位不同，不可以将它们组成的量看成矢量。可以对其选择合适的单位，编码成为矢量。例如利用bag-of_word技术，可以把两篇文章分别表示为矢量，通过计算两个矢量的差或者点积来完成文章的相似度判断、归类等工作"
   ]
  },
  {
   "cell_type": "markdown",
   "metadata": {},
   "source": [
    "## 矩阵\n",
    "由特定行数和列数的数 构成的数学对象\n",
    "一个M维矢量可以看是一个M×1矩阵"
   ]
  },
  {
   "cell_type": "markdown",
   "metadata": {},
   "source": [
    "### 矩阵的和\n",
    "形状相同，对应位置相加"
   ]
  },
  {
   "cell_type": "markdown",
   "metadata": {},
   "source": [
    "### 矩阵的数乘\n",
    "矩阵的数乘也叫矩阵的标量积，常数乘以矩阵整体等于常数分别乘以矩阵中的元素。得到矩阵。"
   ]
  },
  {
   "cell_type": "markdown",
   "metadata": {},
   "source": [
    "### 矩阵的乘法\n",
    "当第一个矩阵的列数等于第二个矩阵的行数时，矩阵的乘法才能定义。\n",
    "2×3矩阵和3×2矩阵得到一个2×2矩阵\n",
    "#### 矩阵乘法的性质\n",
    "1. 不满足交换律\n",
    "2. 满足结合律"
   ]
  },
  {
   "cell_type": "markdown",
   "metadata": {},
   "source": [
    "### 转置矩阵\n",
    "利用矩阵的转置矩阵，矢量的点积可以用矩阵相乘的形式来表示。前一个矢量需要转置，得到一个数。"
   ]
  },
  {
   "cell_type": "markdown",
   "metadata": {},
   "source": [
    "### 逆矩阵\n",
    "单位矩阵*I ，对角线为1的方阵。*\n",
    "对于奇异矩阵，其逆矩阵不存在。"
   ]
  },
  {
   "cell_type": "code",
   "execution_count": null,
   "metadata": {},
   "outputs": [],
   "source": []
  },
  {
   "cell_type": "code",
   "execution_count": null,
   "metadata": {},
   "outputs": [],
   "source": []
  }
 ],
 "metadata": {
  "kernelspec": {
   "display_name": "Python 3",
   "language": "python",
   "name": "python3"
  },
  "language_info": {
   "codemirror_mode": {
    "name": "ipython",
    "version": 3
   },
   "file_extension": ".py",
   "mimetype": "text/x-python",
   "name": "python",
   "nbconvert_exporter": "python",
   "pygments_lexer": "ipython3",
   "version": "3.7.4"
  }
 },
 "nbformat": 4,
 "nbformat_minor": 2
}
