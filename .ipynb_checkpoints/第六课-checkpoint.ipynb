{
 "cells": [
  {
   "cell_type": "markdown",
   "metadata": {},
   "source": [
    "# 第六次课后习题\n",
    "\n",
    "学号：20179065 $ \\qquad $ 班级序列号：170230 $ \\qquad $ 姓名：董秩序"
   ]
  },
  {
   "cell_type": "markdown",
   "metadata": {},
   "source": [
    "## 0. 名词解释\n",
    "* perturbations 扰动\n",
    "* elongated 拉长；(使)延长\n",
    "* latent variable 潜变量；隐藏变量\n",
    ">潜变量，与可观察变量相对，是不直接观察但是通过观察到的其他变量推断（通过数学模型）的变量（直接测量）。旨在用潜在变量解释观察变量的数学模型称为潜变量模型。"
   ]
  },
  {
   "cell_type": "markdown",
   "metadata": {},
   "source": [
    "## 1. 关于条件数的问题"
   ]
  },
  {
   "cell_type": "markdown",
   "metadata": {},
   "source": [
    ">条件数(condition number) 是矩阵运算误差分析的基本工具，它可以度量矩阵对于数值计算的敏感性和稳定性，也可以用来检定病态系统\n",
    "\n",
    ">病态系统:当一线性系统受到极微小的扰动即可引发方程解剧烈变化时，我们将无从信任计算结果，便称它是病态系统\n",
    "\n",
    ">条件数是线性方程组$Ax=b$的解对b中的误差或不确定度的敏感性的度量。\n",
    " 矩阵A的条件数等于**A的范数与A的逆的范数的乘积**，\n",
    "即$cond(A)=‖A‖·‖A$<sup>-1</sup>$‖$，\n",
    "\n",
    "对应矩阵的3种范数，相应地可以定义3种条件数。"
   ]
  },
  {
   "cell_type": "markdown",
   "metadata": {},
   "source": [
    "### What is the condition number of an orthonormal matrix?"
   ]
  },
  {
   "cell_type": "markdown",
   "metadata": {},
   "source": [
    "orthonormal matrix:正交矩阵；\n",
    "正交矩阵的条件数等于1"
   ]
  },
  {
   "cell_type": "markdown",
   "metadata": {},
   "source": [
    "### What is the condition number of a singular matrix?"
   ]
  },
  {
   "cell_type": "markdown",
   "metadata": {},
   "source": [
    "singular matrix:奇异矩阵；奇异矩阵的条件数为无穷大"
   ]
  },
  {
   "cell_type": "markdown",
   "metadata": {},
   "source": [
    "## 2. 椭圆的程序实例\n",
    "修改前面绘制协方差椭圆的例子，观察有小的扰动，引起条件数变得巨大时候，椭圆被压扁的程序实例\n"
   ]
  },
  {
   "cell_type": "code",
   "execution_count": 3,
   "metadata": {},
   "outputs": [],
   "source": [
    "import numpy as np\n",
    "from matplotlib.patches import Ellipse \n",
    "import matplotlib.pyplot as plt"
   ]
  },
  {
   "cell_type": "code",
   "execution_count": 99,
   "metadata": {},
   "outputs": [],
   "source": [
    "def plotCircle(mu,sigma):\n",
    "    # Compute eigenvalues and associated eigenvectors from the covariance matrix\n",
    "    #求解协方差矩阵的特征值及其对应的特征向量\n",
    "    vals, vecs = np.linalg.eigh(sigma)\n",
    "\n",
    "    # Compute \"tilt\" of ellipse using the eigenvector corresponding the maximum eigenvalue\n",
    "    #求解最大特征值对应的特征向量与 x 轴的夹角\n",
    "    x, y = vecs[:, 1]\n",
    "    theta = np.degrees(np.arctan2(y, x))\n",
    "\n",
    "    # Compute the semi‐minor and semi‐major axis length of a 95% confidence ellipse along each eigenvector\n",
    "    #根据特征值求解 95% 误差椭圆的半长轴和半短轴\n",
    "    h, w = np.sqrt(5.991 * vals) #求解 95% 误差椭圆并作图\n",
    "    ell = Ellipse(mu, 2*w, 2*h, theta) \n",
    "    ell.set_alpha(0.5) \n",
    "    ell.set_fill(False)\n",
    "\n",
    "    ax = plt.subplot(111,aspect='equal')\n",
    "    grid(True) ## 显示网格线\n",
    "    ax.add_artist(ell) \n",
    "    plt.xlim(-10, 10)\n",
    "    plt.ylim(-10, 10)\n",
    "    plt.show()\n"
   ]
  },
  {
   "cell_type": "code",
   "execution_count": 100,
   "metadata": {},
   "outputs": [
    {
     "data": {
      "image/png": "[encoded data removed]",
      "text/plain": [
       "<Figure size 432x288 with 1 Axes>"
      ]
     },
     "metadata": {
      "needs_background": "light"
     },
     "output_type": "display_data"
    }
   ],
   "source": [
    "mu = [0,0] #均值\n",
    "sigma = [[5,-3],[-3,5]] #协方差矩阵\n",
    "\n",
    "plotCircle(mu,sigma)"
   ]
  },
  {
   "cell_type": "code",
   "execution_count": 111,
   "metadata": {
    "scrolled": true
   },
   "outputs": [
    {
     "data": {
      "image/png": "[encoded data removed]",
      "text/plain": [
       "<Figure size 432x288 with 1 Axes>"
      ]
     },
     "metadata": {
      "needs_background": "light"
     },
     "output_type": "display_data"
    }
   ],
   "source": [
    "mu = [0,0] #均值\n",
    "sigma = [[5,-3],[-4,5]] #协方差矩阵\n",
    "\n",
    "plotCircle(mu,sigma)"
   ]
  },
  {
   "cell_type": "markdown",
   "metadata": {},
   "source": [
    "## 3. 计算标准差"
   ]
  },
  {
   "cell_type": "code",
   "execution_count": 113,
   "metadata": {},
   "outputs": [],
   "source": [
    "import math"
   ]
  },
  {
   "cell_type": "code",
   "execution_count": 117,
   "metadata": {},
   "outputs": [],
   "source": [
    "def std_deviation(records):\n",
    "    #平均值\n",
    "    av = sum(records) / len(records)\n",
    "    \n",
    "    #每个样本数据 减去样本全部数据的平均值\n",
    "    #所得的各个数值的平方相加\n",
    "    total = 0\n",
    "    for i in records:\n",
    "        total += (i-av)**2\n",
    "     \n",
    "    #结果除以 (n - 1)（“n”指样本数目）\n",
    "    #数值之平方根就是抽样的标准偏差\n",
    "    std = math.sqrt(total/(len(records)-1))\n",
    "    return std"
   ]
  },
  {
   "cell_type": "code",
   "execution_count": 118,
   "metadata": {},
   "outputs": [
    {
     "data": {
      "text/plain": [
       "1.0"
      ]
     },
     "execution_count": 118,
     "metadata": {},
     "output_type": "execute_result"
    }
   ],
   "source": [
    "records1 = [3, 4, 5]\n",
    "std_deviation(records1)"
   ]
  },
  {
   "cell_type": "markdown",
   "metadata": {},
   "source": [
    "## 4.实验和代码\n",
    "### 编写PCA并验证\n"
   ]
  },
  {
   "cell_type": "markdown",
   "metadata": {},
   "source": [
    "PCA把原先的n个特征用数目更少的k个特征取代，新特征是旧特征的线性组合，\n",
    "这些线性组合最大化样本方差，尽量使新的k个特征互不相关。"
   ]
  },
  {
   "cell_type": "code",
   "execution_count": null,
   "metadata": {},
   "outputs": [],
   "source": [
    "def loadDataSet(fileName):\n",
    "    dataSetList = []\n",
    "    fr = open(fileName)\n",
    "    for row in fr.readlines():\n",
    "        cur_line = row.strip().split('\\t')\n",
    "        proce_line = list(map(float,cur_line))\n",
    "        dataSetList.append(proce_line)\n",
    "    dataSetList = array(dataSetList)\n",
    "    return dataSetList\n",
    "\n",
    "def pca(dataMat, topNfeat = 999999):\n",
    "    # 竖着求平均值，数据格式是m×n\n",
    "    meanValues = mean(dataMat,axis=0)\n",
    "    # 0均值化  m×n维\n",
    "    meanRemoved = dataMat - meanValues  \n",
    "    # 每一列作为一个独立变量求协方差  n×n维\n",
    "    covMat = cov(meanRemoved,rowvar=0)\n",
    "    # 求特征值和特征向量  eigVects是n×n维\n",
    "    eigVals, eigVects = linalg.eig(mat(covMat)) \n",
    "    # 特征值由大到小排序，eigValInd十个arrary数组 1×n维\n",
    "    eigValInd = argsort(-eigVals)\n",
    "    \n",
    "    # 选取前topNfeat个特征值的序号  1×r维\n",
    "    eigValInd = eigValInd[:topNfeat]\n",
    "    # 把符合条件的几列特征筛选出来组成P  n×r维\n",
    "    redEigVects = eigVects[:,eigValInd]\n",
    "    # 矩阵点乘筛选的特征向量矩阵  m×r维 公式Y=X*P\n",
    "    lowDDataMat = meanRemoved * redEigVects\n",
    "    # 转换新空间的数据  m×n维\n",
    "    reconMat = (lowDDataMat * redEigVects.T) + meanValues \n",
    "    return lowDDataMat, reconMat\n",
    "\n",
    "def drawPoints(dataset1,dataset2):\n",
    "    # 画图，dataset1是没降维的数据，dataset2是数据映射到新空间的数据\n",
    "    fig = plt.figure()\n",
    "    ax1 = fig.add_subplot(211)\n",
    "    ax2 = fig.add_subplot(212)\n",
    "    ax1.scatter(dataset1[:,0],dataset1[:,1],marker='s',s=40,color='red')\n",
    "    dataset2 = array(dataset2)\n",
    "    ax2.scatter(dataset2[:,0],dataset2[:,1],s=40,color='blue')\n",
    "    plt.show()\n",
    "\n",
    "if __name__ == '__main__':\n",
    "    data = loadDataSet('/home/zhangqingfeng/test/PCA_data_set/pca_data_set1.txt')\n",
    "    proccess_data, reconMat = pca(data,1)\n",
    "    drawPoints(data,reconMat)"
   ]
  },
  {
   "cell_type": "code",
   "execution_count": null,
   "metadata": {},
   "outputs": [],
   "source": []
  },
  {
   "cell_type": "markdown",
   "metadata": {},
   "source": [
    "### 学会调用sklearn中的PCA\n"
   ]
  },
  {
   "cell_type": "code",
   "execution_count": 1,
   "metadata": {},
   "outputs": [],
   "source": [
    "from sklearn.decomposition import PCA"
   ]
  },
  {
   "cell_type": "code",
   "execution_count": 4,
   "metadata": {},
   "outputs": [
    {
     "data": {
      "text/plain": [
       "PCA(copy=True, iterated_power='auto', n_components=2, random_state=None,\n",
       "    svd_solver='auto', tol=0.0, whiten=False)"
      ]
     },
     "execution_count": 4,
     "metadata": {},
     "output_type": "execute_result"
    }
   ],
   "source": [
    "X = np.array([[-1, -1], [-2, -1], [-3, -2], [1, 1], [2, 1], [3, 2]])\n",
    "pca = PCA(n_components=2)\n",
    "pca.fit(X)"
   ]
  },
  {
   "cell_type": "code",
   "execution_count": 6,
   "metadata": {},
   "outputs": [
    {
     "name": "stdout",
     "output_type": "stream",
     "text": [
      "[0.99244289 0.00755711]\n"
     ]
    }
   ],
   "source": [
    "print(pca.explained_variance_ratio_)\n",
    "#第一个特征的单个变量方差贡献率已经到达0.99,意味着几乎保留了所有的信息。所以只保留一个特征即可"
   ]
  },
  {
   "cell_type": "code",
   "execution_count": null,
   "metadata": {},
   "outputs": [],
   "source": []
  }
 ],
 "metadata": {
  "kernelspec": {
   "display_name": "Python 3",
   "language": "python",
   "name": "python3"
  },
  "language_info": {
   "codemirror_mode": {
    "name": "ipython",
    "version": 3
   },
   "file_extension": ".py",
   "mimetype": "text/x-python",
   "name": "python",
   "nbconvert_exporter": "python",
   "pygments_lexer": "ipython3",
   "version": "3.7.4"
  }
 },
 "nbformat": 4,
 "nbformat_minor": 2
}
