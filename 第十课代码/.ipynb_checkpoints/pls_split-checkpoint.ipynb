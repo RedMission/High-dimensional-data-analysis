{
 "cells": [
  {
   "cell_type": "code",
   "execution_count": 1,
   "metadata": {
    "scrolled": true
   },
   "outputs": [
    {
     "name": "stderr",
     "output_type": "stream",
     "text": [
      "D:\\Users\\Anaconda3\\envs\\py27\\lib\\site-packages\\sklearn\\cross_validation.py:41: DeprecationWarning: This module was deprecated in version 0.18 in favor of the model_selection module into which all the refactored classes and functions are moved. Also note that the interface of the new CV iterators are different from that of this module. This module will be removed in 0.20.\n",
      "  \"This module will be removed in 0.20.\", DeprecationWarning)\n"
     ]
    }
   ],
   "source": [
    "import numpy as np\n",
    "import scipy.io as sio\n",
    "from sklearn.cross_validation import train_test_split\n",
    "\n",
    "\n",
    "class pls_split():\n",
    "    def __init__(self, x_cal, y_cal):\n",
    "        self.x_cal = x_cal\n",
    "        self.y_cal = y_cal\n",
    "    def split(self, intervals):  # \n",
    "        n, m = np.shape(self.x_cal)\n",
    "#         \n",
    "        num = m / intervals  #  \n",
    "        mod = m % intervals  #  \n",
    "        before = num + 1\n",
    "        split_list = []\n",
    "        intervals_list = []\n",
    "        for i in range(mod):\n",
    "            self.intervals = self.x_cal[:, i * before:(i + 1) * before]\n",
    "            split_list.append(self.intervals)\n",
    "            before_intervals = (i * before, (i + 1) * before)\n",
    "            intervals_list.append(before_intervals)\n",
    "        before_num = mod * before\n",
    "\n",
    "        behind = intervals - mod\n",
    "\n",
    "        for i in range(behind):\n",
    "            self.intervals = self.x_cal[:, before_num + i * num:before_num + (i + 1) * num]\n",
    "            split_list.append(self.intervals)\n",
    "            behind_intervals = (before_num + i * num, before_num + (i + 1) * num)\n",
    "            intervals_list.append(behind_intervals)\n",
    "            \n",
    "\n",
    "        return split_list, intervals_list"
   ]
  },
  {
   "cell_type": "code",
   "execution_count": null,
   "metadata": {},
   "outputs": [],
   "source": []
  }
 ],
 "metadata": {
  "kernelspec": {
   "display_name": "Python 2",
   "language": "python",
   "name": "python2"
  },
  "language_info": {
   "codemirror_mode": {
    "name": "ipython",
    "version": 2
   },
   "file_extension": ".py",
   "mimetype": "text/x-python",
   "name": "python",
   "nbconvert_exporter": "python",
   "pygments_lexer": "ipython2",
   "version": "2.7.13"
  }
 },
 "nbformat": 4,
 "nbformat_minor": 2
}
